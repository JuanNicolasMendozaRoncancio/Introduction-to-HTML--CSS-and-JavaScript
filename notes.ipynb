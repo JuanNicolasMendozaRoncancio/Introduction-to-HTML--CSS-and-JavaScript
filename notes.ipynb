{
 "cells": [
  {
   "cell_type": "markdown",
   "id": "f3f21743",
   "metadata": {},
   "source": [
    "# Module 1"
   ]
  },
  {
   "cell_type": "markdown",
   "id": "e1e82a56",
   "metadata": {},
   "source": [
    "HTML = Hipertext Markup Language, is the \"language of the internet\". (It was created by CERN!!! and IETF)\n",
    "\n",
    "* The HTML elements are there to biuld te page, they con be paragraphs, lists,... wich are represented as tags <>\n",
    "* HTML and HTML5 are quite the same, but HTML5 suports HTML or XML syntax, and can interpolate old versions of HTML.It also have Markup and APIs"
   ]
  },
  {
   "cell_type": "markdown",
   "id": "2ad7b47a",
   "metadata": {},
   "source": [
    "## HTML Features\n",
    "\n",
    "It provides the means to categorize web pages into different sections, and includes tools for effective data management, drawing, video, and audio. Facilitates the development of cross-browser applications for the web and portable devices. Allows greater flexibility, permitting the development of interactive websites. Helps to create a more engaging user experience.\n",
    "\n",
    "Here is an example of HTML: \n",
    "\n",
    "![HTML example](Images\\imageI.png)\n",
    "\n",
    "This example uses the following elements: The !DOCTYPE is a declaration tag that represents the document type. \n",
    "The !DOCTYPE declaration is not an HTML tag; it is an instruction to the web browser about what version of HTML the page is written in. Although this declaration is not required, it should be the first line of the HTML code if the developer decides to include it. The html tag is the root element of this tree. It contains all of the other HTML elements, except the !doctype tag. This example, contains two elements: head and body. \n",
    "\n",
    "The head tag contains a title tag, which contains the text “Sample page” in the example. The head element can contain the following tags: \n",
    "\n",
    "- title \n",
    "- scripts \n",
    "- style \n",
    "- style sheet \n",
    "- links \n",
    "- meta information \n",
    "- browser support, information \n",
    "- and other initialization functions. \n",
    "\n",
    "Finally, the body tag contains all content that is displayed on the webpage.\n",
    "\n",
    "\n",
    "HTML user agents, commonly known as browsers, parse the markup, turning it into a DOM (Document Object Model) tree. A DOM tree is an in-memory representation of a document. DOM trees contain several kinds of nodes, which include a DOCTYPE node, elements such as headers and paragraphs, text nodes, and comment nodes. \n",
    "\n",
    "![HTML example](Images\\imageII.png)\n"
   ]
  },
  {
   "cell_type": "markdown",
   "id": "99437964",
   "metadata": {},
   "source": []
  }
 ],
 "metadata": {
  "language_info": {
   "name": "python"
  }
 },
 "nbformat": 4,
 "nbformat_minor": 5
}
