{
 "cells": [
  {
   "cell_type": "markdown",
   "id": "f3f21743",
   "metadata": {},
   "source": [
    "# Module 1"
   ]
  },
  {
   "cell_type": "markdown",
   "id": "e1e82a56",
   "metadata": {},
   "source": [
    "HTML = Hipertext Markup Language, is the \"language of the internet\". (It was created by CERN!!! and IETF)\n",
    "\n",
    "* The HTML elements are there to biuld te page, they con be paragraphs, lists,... wich are represented as tags <>\n",
    "* HTML and HTML5 are quite the same, but HTML5 suports HTML or XML syntax, and can interpolate old versions of HTML.It also have Markup and APIs"
   ]
  },
  {
   "cell_type": "markdown",
   "id": "2ad7b47a",
   "metadata": {},
   "source": [
    "## HTML Features\n",
    "\n",
    "It provides the means to categorize web pages into different sections, and includes tools for effective data management, drawing, video, and audio. Facilitates the development of cross-browser applications for the web and portable devices. Allows greater flexibility, permitting the development of interactive websites. Helps to create a more engaging user experience.\n",
    "\n",
    "Here is an example of HTML: \n",
    "\n",
    "![HTML example](Images\\imageI.png)\n",
    "\n",
    "This example uses the following elements: The !DOCTYPE is a declaration tag that represents the document type. \n",
    "The !DOCTYPE declaration is not an HTML tag; it is an instruction to the web browser about what version of HTML the page is written in. Although this declaration is not required, it should be the first line of the HTML code if the developer decides to include it. The html tag is the root element of this tree. It contains all of the other HTML elements, except the !doctype tag. This example, contains two elements: head and body. \n",
    "\n",
    "The head tag contains a title tag, which contains the text “Sample page” in the example. The head element can contain the following tags: \n",
    "\n",
    "- title \n",
    "- scripts \n",
    "- style \n",
    "- style sheet \n",
    "- links \n",
    "- meta information \n",
    "- browser support, information \n",
    "- and other initialization functions. \n",
    "\n",
    "Finally, the body tag contains all content that is displayed on the webpage.\n",
    "\n",
    "\n",
    "HTML user agents, commonly known as browsers, parse the markup, turning it into a DOM (Document Object Model) tree. A DOM tree is an in-memory representation of a document. DOM trees contain several kinds of nodes, which include a DOCTYPE node, elements such as headers and paragraphs, text nodes, and comment nodes. \n",
    "\n",
    "![HTML example](Images\\imageII.png)\n"
   ]
  },
  {
   "cell_type": "markdown",
   "id": "99437964",
   "metadata": {},
   "source": [
    "The use of scripting within a website, often through the use of JavaScript, can be done directly within your HTML code within the `script` tag, or within a separate file which is called in your HTML code. Scripting provides a more interactive user experience when browsing websites. It can be used for various tasks, such as form validation, dynamically changing the content of a website, and manipulating images. Since scripting can be turned off, the recommendation is to use scripting but not to rely on it.\n",
    "\n",
    "\n",
    "HTML5 also defines a sandboxed media type which specifies an extra set of content restrictions and can be used when hosting untrusted content. This sandboxed browsing context can be set at the page level or specified as an attribute for embedded objects. Running a page that contains an embedded object without the sandbox attribute grants the embedded object the same permissions as the rest of your page. This implicitly gives a third-party vendors permission to run scripts with the same permissions that you have for that page, which is one way that you can inadvertently allow advertisements to occur in your application. So, to prevent granting implicit permissions to embedded objects, use the sandbox attribute on any tag that contains an embedded object."
   ]
  },
  {
   "cell_type": "markdown",
   "id": "5f054a85",
   "metadata": {},
   "source": [
    "Each HTML document that is loaded into a browser page becomes a Document object. \n",
    "The Document object provides access to all HTML elements in a page and can be accessed from within a script. The DOM tree accessors are HTML document APIs that provide access to all the HTML elements on a page. The property to access is prefixed by the word document. For example:\n",
    "\n",
    "- document.head returns the first head element that is a child of the html element, if there is one, otherwise null. \n",
    "- The function document.images returns an HTMLCollection of the image elements in the document. \n",
    "- The function document.scripts returns an HTMLCollection of the script elements in the document. \n",
    "\n",
    "Some common HTML DOM tree methods: \n",
    "- The document.getElementById(‘id’) function has one required parameter which is the id of the element you want to access. \n",
    "The id is specified as an attribute on one of the elements that is coded elsewhere on the page. \n",
    "- The document.getElementsByTagName(‘tag’) function has one required parameter which is the tag name of the element you want to access. This function returns a nodelist of all the elements with the tag that matches the required parameter.  \n",
    "\n"
   ]
  }
 ],
 "metadata": {
  "language_info": {
   "name": "python"
  }
 },
 "nbformat": 4,
 "nbformat_minor": 5
}
